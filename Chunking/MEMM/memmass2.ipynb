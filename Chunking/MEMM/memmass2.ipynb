{
  "nbformat": 4,
  "nbformat_minor": 0,
  "metadata": {
    "colab": {
      "name": "memmass2.ipynb",
      "provenance": [],
      "collapsed_sections": []
    },
    "kernelspec": {
      "name": "python3",
      "display_name": "Python 3"
    }
  },
  "cells": [
    {
      "cell_type": "code",
      "metadata": {
        "id": "qo2UDZ-C9UsF"
      },
      "source": [
        "!awk -F' ' '{split($3,a,\"-\");print $1 \" \" $2 \" \" a[1];}' /content/test.txt > /content/processed_test.txt\n",
        "!awk -F' ' '{split($3,a,\"-\");print $1 \" \" $2 \" \" a[1];}' /content/train.txt > /content/processed_train.txt"
      ],
      "execution_count": null,
      "outputs": []
    },
    {
      "cell_type": "code",
      "metadata": {
        "id": "i29YIJMS3buQ"
      },
      "source": [
        "import nltk\n",
        "from nltk.stem.porter import *\n",
        "from nltk.classify import MaxentClassifier\n",
        "import pickle\n",
        "import os,sys\n",
        "from io import open\n",
        "change_of_sentence_flag = 0 #a marker for the end of sentence\n",
        "boi_full_list = [] #store all the boi tags that occur in the training set\n",
        "boi_end_list = [] #store boi tags that are at the end of the sentence\n",
        "wordStartList = [] #store words that are begining of the sentence\n",
        "BOI_list = ['B','O','I']\n",
        "labeled_features = []\n",
        "\n",
        "training_file = open(\"/content/processed_train.txt\", \"r\")\n",
        "testing_file = open(\"/content/processed_test.txt\", \"r\")\n",
        "output_file = open(\"boi_output.txt\", \"w\")\n",
        "\n",
        "#****************************************************************building input features part.1\n",
        "previous_BOI = \"start\"\n",
        "previous_tag = 'START'\n",
        "input_file = training_file\n",
        "sents = []\n",
        "sent = []\n",
        "previous_word = \"\"\n",
        "for line in input_file:\n",
        "\ts = re.match(r'^\\s*$', line)  #find empty line\n",
        "\tif s:\n",
        "\t\tchange_of_sentence_flag = 1\n",
        "\t\tprevious_BOI = \"start\"\n",
        "\t\tprevious_tag = 'START'\n",
        "\t\tprevious_word = \"\"\n",
        "\t\tsents.append(sent)\n",
        "\t\tsent = []\n",
        "\telse: \n",
        "\t\tsentenceList = line.split()\n",
        "\t\tword = sentenceList[0]\n",
        "\t\ttag = sentenceList[1]\n",
        "\t\tboi = sentenceList[2] \n",
        "\t\tsent.append(word)\n",
        "\t\t#store words that are begining of the sentence\n",
        "\t\tif change_of_sentence_flag == 1:\n",
        "\t\t\twordStartList.append(word)\n",
        "\t\t\tboi_end_list.append(boi_full_list[-1])\n",
        "\t\t\tchange_of_sentence_flag = 0\n",
        "\t\tboi_full_list.append(boi)\n",
        "\t\titem = word, tag, boi, previous_BOI, previous_tag,previous_word\n",
        "\t\tlabeled_features.append(item)\n",
        "\t\tprevious_BOI = boi\n",
        "\t\tprevious_tag = tag\n",
        "\t\tprevious_word = word\n",
        "        #labeled_features \n",
        "\n",
        "#print(\"labeled_features\")\n",
        "# print(labeled_features)\n",
        "#unlabeled_features = []\n",
        "\n",
        "input_file.close()\n"
      ],
      "execution_count": null,
      "outputs": []
    },
    {
      "cell_type": "code",
      "metadata": {
        "id": "F5QbUhYYdztf",
        "outputId": "96340874-1549-4767-933b-96e644bb0e2f",
        "colab": {
          "base_uri": "https://localhost:8080/",
          "height": 70
        }
      },
      "source": [
        "from gensim.test.utils import common_texts, get_tmpfile\n",
        "from gensim.models import Word2Vec\n",
        "\n",
        "model = Word2Vec(sents, min_count=1)\n",
        "words = list(model.wv.vocab)\n",
        "model.save('model.bin')\n",
        "new_model = Word2Vec.load('model.bin')"
      ],
      "execution_count": null,
      "outputs": [
        {
          "output_type": "stream",
          "text": [
            "/usr/local/lib/python3.6/dist-packages/smart_open/smart_open_lib.py:252: UserWarning: This function is deprecated, use smart_open.open instead. See the migration notes for details: https://github.com/RaRe-Technologies/smart_open/blob/master/README.rst#migrating-to-the-new-open-function\n",
            "  'See the migration notes for details: %s' % _MIGRATION_NOTES_URL\n"
          ],
          "name": "stderr"
        }
      ]
    },
    {
      "cell_type": "code",
      "metadata": {
        "id": "5tmaHKS_xMnT"
      },
      "source": [
        "#****************************************************************calculate End Transition\n",
        "#calculate the End prior\n",
        "dicE = {} #temporarry dic \n",
        "countTag = 0\n",
        "countEnd = 0\n",
        "#calculate the prior (End|state) = C(state, End)/C(state) \n",
        "for i in BOI_list:\n",
        "\tfor j  in range(len(boi_end_list)):\n",
        "\t\tfor f in boi_full_list:\n",
        "\t\t\tif j == 0:\n",
        "\t\t\t\tif i == f:\n",
        "\t\t\t\t\tcountTag = countTag + 1 \n",
        "\t\tif i == boi_end_list[j]:\n",
        "\t\t\tcountEnd = countEnd + 1 \n",
        "\tProbE = format(countEnd/(countTag*1.0), '.5f')\n",
        "\tdicE.update({i: {\"END\":ProbE}})\n",
        "\n",
        "\tcountEnd = 0\n",
        "\tcountTag = 0\n"
      ],
      "execution_count": null,
      "outputs": []
    },
    {
      "cell_type": "code",
      "metadata": {
        "id": "Q7HvEklAxxgU"
      },
      "source": [
        "lis_noun_suff = ['acy','al','ance','ence','dom','er','or','ism','ist','ity','ty','ment','ness','ship','tion','sion']\n",
        "lis_verb_suff = ['ate','en','ify','fy','ize','ise','ed','ing','in','ted']\n",
        "lis_adv_suff = ['ly','ward','wise']\n",
        "lis_adj_suff = ['able','ible','al','esque','ful','ic','ical','ious','ous','ish','ive','less','y']\n",
        "\n",
        "stemmer = PorterStemmer() \n",
        "\n",
        "def give_morphological_features(word):\n",
        "    ret = [0]*10\n",
        "    if word==\"\":\n",
        "        return ret\n",
        "    temp = 0\n",
        "    temp = ord(word[0])\n",
        "    temp2 = -5\n",
        "    temp3 = -5\n",
        "    if(len(word)>2):\n",
        "        temp2 = ord(word[-2])\n",
        "        temp3 = ord(word[-3])\n",
        "    flag = 0\n",
        "    flag2 = 0\n",
        "    verb_flag = 0\n",
        "    len_flag = 0\n",
        "    poss_flag = 0\n",
        "    #Suffix\n",
        "    bi_suf = word[-2:]\n",
        "    tri_suf = word[-3:]\n",
        "    four_suf = word[-4:]\n",
        "    stem = stemmer.stem(word)\n",
        "    if((bi_suf in lis_adj_suff or tri_suf in lis_adj_suff or four_suf in lis_adj_suff) and stem!=word):\n",
        "        ret[5] = 1\n",
        "    elif((bi_suf in lis_noun_suff or tri_suf in lis_noun_suff or four_suf in lis_noun_suff) and stem!=word):\n",
        "        ret[6] = 1\n",
        "    elif((bi_suf in lis_adv_suff or tri_suf in lis_adv_suff or four_suf in lis_adv_suff) and stem!=word):\n",
        "        ret[7] = 1 \n",
        "        flag2 = 1\n",
        "    elif((bi_suf in lis_verb_suff or tri_suf in lis_verb_suff or four_suf in lis_verb_suff) and stem!=word):\n",
        "        ret[8] = 1\n",
        "        verb_flag = 1\n",
        "    #Check Hyphen\n",
        "    for jj in range(len(word)-1):\n",
        "        if(ord(word[jj])==45 and ord(word[jj+1])!=45):\n",
        "            ret[4] = 1 \n",
        "            flag = 1\n",
        "            break\n",
        "    #Check Number\n",
        "    if(temp<=57 and temp >=47):\n",
        "        ret[0] = 1\n",
        "    #Check First Upper Cap \n",
        "    if(temp<=90 and temp>=65):\n",
        "        ret[1] = 1 \n",
        "    #Check LOwer Cap  \n",
        "    if(len(word)<=3):\n",
        "        ret[2] = 1 \n",
        "        len_flag = 1\n",
        "    if(temp2==39 or temp3==39): \n",
        "      # print(word)\n",
        "        ret[9] = 1\n",
        "        poss_flag = 1\n",
        "    if((temp==46 or temp==96 or temp==95 or temp ==94 or temp==58 or temp ==59 or temp ==33 or temp==34  or temp ==44)):\n",
        "        ret[3] = 1  \n",
        "    return ret\n",
        "\n",
        "\n",
        "#****************************************************************building input features part.2\n",
        "def MEMM_features(word, tag, previous_BOI, previous_tag,previous_word):\n",
        "    stemmer = PorterStemmer() \n",
        "    features = {} \n",
        "    features['current_word'] = word\n",
        "    features['current_tag'] = tag\n",
        "    # puc = '-'.decode(\"utf-8\")\n",
        "        #some char is outof ASCII\n",
        "    # print (word)\n",
        "    features['capitalization'] = word[0].isupper()\n",
        "    features['start_of_sentence'] = word in wordStartList\n",
        "    features['cap_start'] = word not in wordStartList and word[0].isupper()\n",
        "    features['pre_capitalization'] = previous_word[0].isupper() if previous_word != \"\" else False\n",
        "    features['pre_start_of_sentence'] = previous_word in wordStartList\n",
        "    features['pre_cap_start'] = previous_word not in wordStartList and previous_word[0].isupper() if previous_word!=\"\" else False\n",
        "    # features.update(dict(zip(range(200,210),give_morphological_features(word))))\n",
        "    # features.update(dict(zip(range(210,220),give_morphological_features(previous_word))))\n",
        "    features['previous_NC'] = previous_BOI\n",
        "    features['previous_tag'] = previous_tag\n",
        "    features['previous_word'] = previous_word\n",
        "    # try:\n",
        "    #     l1 = new_model[word]\n",
        "    #     features.update(dict(zip(range(100),l1)))\n",
        "    # except:\n",
        "    #     features.update(dict(zip(range(100),[0]*100)))\n",
        "    # try:\n",
        "    #     l1 = new_model[previous_word]\n",
        "    #     features.update(dict(zip(range(100,200),l1)))\n",
        "    # except:\n",
        "    #     features.update(dict(zip(range(100,200),[0]*100)))\n",
        "    return features"
      ],
      "execution_count": null,
      "outputs": []
    },
    {
      "cell_type": "code",
      "metadata": {
        "id": "krd9lTd8PAWZ"
      },
      "source": [
        "labeled_featuresets = [(MEMM_features(word, tag, previous_BOI, previous_tag,previous_word), boi )for (word, tag, boi, previous_BOI,previous_tag,previous_word) in labeled_features]\n",
        "train_set = labeled_featuresets"
      ],
      "execution_count": null,
      "outputs": []
    },
    {
      "cell_type": "code",
      "metadata": {
        "id": "ttqpKF-MQUsm",
        "outputId": "97002786-9893-41c2-9cc3-8589a8b76dca",
        "colab": {
          "base_uri": "https://localhost:8080/",
          "height": 54
        }
      },
      "source": [
        "print(train_set[1])"
      ],
      "execution_count": null,
      "outputs": [
        {
          "output_type": "stream",
          "text": [
            "({'current_word': 'in', 'current_tag': 'IN', 'capitalization': False, 'start_of_sentence': False, 'cap_start': False, 'pre_capitalization': True, 'pre_start_of_sentence': False, 'pre_cap_start': True, 200: 0, 201: 0, 202: 1, 203: 0, 204: 0, 205: 0, 206: 0, 207: 0, 208: 0, 209: 0, 210: 0, 211: 1, 212: 0, 213: 0, 214: 0, 215: 0, 216: 1, 217: 0, 218: 0, 219: 0, 'previous_NC': 'B', 'previous_tag': 'NN', 'previous_word': 'Confidence'}, 'B')\n"
          ],
          "name": "stdout"
        }
      ]
    },
    {
      "cell_type": "code",
      "metadata": {
        "id": "Zi80TBGY8yt0",
        "outputId": "39415be7-3d85-47fc-8041-90543620d8d5",
        "colab": {
          "base_uri": "https://localhost:8080/",
          "height": 588
        }
      },
      "source": [
        "#*******************************************************************train the model\n",
        "f = open(\"my_classifier.pickle\", \"wb\")\n",
        "\n",
        "maxent_classifier = MaxentClassifier.train(train_set, max_iter=30)\n",
        "pickle.dump(maxent_classifier , f)\n",
        "\n",
        "f.close() "
      ],
      "execution_count": null,
      "outputs": [
        {
          "output_type": "stream",
          "text": [
            "  ==> Training (30 iterations)\n",
            "\n",
            "      Iteration    Log Likelihood    Accuracy\n",
            "      ---------------------------------------\n",
            "             1          -1.09861        0.132\n",
            "             2          -0.55412        0.807\n",
            "             3          -0.39565        0.893\n",
            "             4          -0.31091        0.922\n",
            "             5          -0.26065        0.934\n",
            "             6          -0.22794        0.939\n",
            "             7          -0.20511        0.942\n",
            "             8          -0.18830        0.944\n",
            "             9          -0.17539        0.945\n",
            "            10          -0.16514        0.947\n",
            "            11          -0.15679        0.948\n",
            "            12          -0.14984        0.949\n",
            "            13          -0.14395        0.951\n",
            "            14          -0.13887        0.951\n",
            "            15          -0.13445        0.952\n",
            "            16          -0.13054        0.953\n",
            "            17          -0.12707        0.954\n",
            "            18          -0.12395        0.954\n",
            "            19          -0.12113        0.955\n",
            "            20          -0.11856        0.956\n",
            "            21          -0.11621        0.957\n",
            "            22          -0.11404        0.957\n",
            "            23          -0.11204        0.958\n",
            "            24          -0.11018        0.958\n",
            "            25          -0.10845        0.959\n",
            "            26          -0.10684        0.959\n",
            "            27          -0.10532        0.960\n",
            "            28          -0.10389        0.960\n",
            "            29          -0.10255        0.961\n",
            "         Final          -0.10128        0.961\n"
          ],
          "name": "stdout"
        }
      ]
    },
    {
      "cell_type": "code",
      "metadata": {
        "id": "C06E6pUmPOeb"
      },
      "source": [
        "#********************************************************************Viterbi\n",
        "def MEMM(wordList,tagList):\n",
        "    BOI_list =  ['B','O','I']\n",
        "    w1 = wordList[0] #the first word of the sentence\n",
        "    t1 = tagList[0]\n",
        "    tRange = len(BOI_list)\n",
        "    wRange = len(wordList)\n",
        "\n",
        "    viterbi = [[0 for x in range(300)] for x in range(300)] \n",
        "    backpointer = [['' for x in range(300)] for x in range(300)] \n",
        "    #intialization\n",
        "    for t in range(tRange):#t = 0,1,2\n",
        "        probability = maxent_classifier.prob_classify(MEMM_features(w1,t1, \"start\",\"START\",\"\")) \n",
        "        posterior = float(probability.prob(BOI_list[t]))\n",
        "        #print (\"boi: \" + BOI_list[t] + ' posterior (start)' + str(posterior))\n",
        "        #score transition 0(start) -> q given w1\n",
        "        viterbi[t][1] = posterior\n",
        "        backpointer[t][1] = 0 #stand for q0 (start point)\n",
        "\n",
        "    #for word w from 2 to T\n",
        "    maxViterbi = 0\n",
        "    maxPreviousState = 0 \n",
        "    maxPreTerminalProb = 0\n",
        "    prev_tag = t1\n",
        "    prev_word = \"\"\n",
        "    for w in range (1, wRange):\t\n",
        "        word = wordList[w]\n",
        "        tag = tagList[w]\n",
        "        for t in range (tRange):\n",
        "            #find max verterbi = max (previous * posterior)\t\n",
        "            probability = maxent_classifier.prob_classify(MEMM_features(word,tag,BOI_list[0],prev_tag,prev_word)) \n",
        "            posterior = float(probability.prob(BOI_list[t]))\n",
        "            maxViterbi = float(viterbi[0][w]) * posterior\n",
        "            maxPreviousState = 0\n",
        "            for i in range (1, tRange):\n",
        "                probability = maxent_classifier.prob_classify(MEMM_features(word,tag,BOI_list[i],prev_tag,prev_word)) \n",
        "                posterior = float(probability.prob(BOI_list[t]))\n",
        "                if float(viterbi[i][w]) * posterior > maxViterbi:\n",
        "                        maxViterbi = float(viterbi[i][w]) * posterior\n",
        "                        maxPreviousState = i #content BOI_List[i]\t\t\n",
        "            viterbi[t][w+1] = maxViterbi\t\n",
        "            backpointer[t][w+1] = BOI_list[maxPreviousState] #points to the matrix x axis (max previous)\n",
        "            \n",
        "            maxViterbi = 0\n",
        "            maxPreviousState = 0 \n",
        "            maxPreTerminalProb = 0\n",
        "        prev_tag = tag\n",
        "        prev_word = word\n",
        "\t#termination step\n",
        "\t#viterbi[qF, T] = max (viterbi[s,T] *as,qF)\n",
        "    maxPreTerminalProb = float(viterbi[0][wRange] )* float(dicE[BOI_list[0]][\"END\"])\n",
        "\n",
        "    maxPreviousState = 0\n",
        "    for i in range (1, tRange):\n",
        "\t\t\n",
        "        if float(viterbi[i][wRange]) * float(dicE[BOI_list[i]][\"END\"]) > maxPreTerminalProb:\n",
        "            maxPreTerminalProb = float(viterbi[i][wRange]) * float(dicE[BOI_list[i]][\"END\"]) \n",
        "\n",
        "            maxPreviousState = i\n",
        "\n",
        "            #print (\"maxPreTerminalProb: \" + str(maxPreTerminalProb))\n",
        "    viterbi[tRange][wRange+1] = maxPreTerminalProb \n",
        "    backpointer[tRange][wRange+1] = BOI_list[maxPreviousState]\n",
        "    #return POS tag path \n",
        "    pathReverse = [BOI_list[maxPreviousState]]\n",
        "    maxPreviousTag = BOI_list[maxPreviousState]\n",
        "\t\n",
        "    i = 0\n",
        "    while i < (wRange -1):\n",
        "        pathReverse.append(backpointer[BOI_list.index(maxPreviousTag)][wRange - i])\n",
        "        maxPreviousTag = backpointer[BOI_list.index(maxPreviousTag)][wRange - i]\n",
        "        i = i + 1 \n",
        "\n",
        "    #reverse the path to make it correct\n",
        "    index = len(pathReverse)\n",
        "    path = []\n",
        "    while index >= 1 :\n",
        "        path.append(pathReverse[index - 1])\n",
        "        index = index -1 \n",
        "    return path\n",
        "\n"
      ],
      "execution_count": null,
      "outputs": []
    },
    {
      "cell_type": "code",
      "metadata": {
        "id": "9iILwoPRkDNM"
      },
      "source": [
        "testing_file = open(\"/content/processed_test.txt\", \"r\")\n",
        "output_file = open(\"boi_output.txt\", \"w\")"
      ],
      "execution_count": null,
      "outputs": []
    },
    {
      "cell_type": "code",
      "metadata": {
        "id": "2LQCu6--yVQ8"
      },
      "source": [
        "#*******************************************************************MaxEnt+Viterbi = MEMM\n",
        "#main()\n",
        "wordList = [] #store words in a sentence\n",
        "tagList = [] #store part-of-speech tag in a sentence \n",
        "boiList = [] #store boi tags in a sentence \n",
        "#prob_table = {} #stpre the posterior\n",
        "previous_BOI = \"start\"\n",
        "previous_tag = 'START'\n",
        "BOI_list =  ['B','O','I']\n",
        "\n",
        "input_file = testing_file\n",
        "for line in input_file:\n",
        "\t\n",
        "    if line.strip() != '': #if not empty do following \n",
        "        sentenceList = line.split()\n",
        "        word = sentenceList[0]\n",
        "        # print (word)\n",
        "        tag = sentenceList[1]\n",
        "        boi = sentenceList[2]\n",
        "        wordList.append(word)\n",
        "        tagList.append(tag)\n",
        "        boiList.append(boi)\n",
        "        #store words that are begining of the sentence\n",
        "        #store tags that are the begining of the sentence\n",
        "        #store the end of sentence tag in tagEndList\n",
        "        if change_of_sentence_flag == 1:\n",
        "            wordStartList.append(word)\n",
        "            change_of_sentence_flag = 0\n",
        "    s = re.match(r'^\\s*$', line)  #find empty line\n",
        "    if s:\n",
        "        #print (wordList)\n",
        "        change_of_sentence_flag = 1\n",
        "        previous_BOI = \"start\"\n",
        "        previous_tag = 'START'\n",
        "        path = MEMM(wordList, tagList) #list of BOI_tags returned by HMM function call\n",
        "\n",
        "        for i in range(len(wordList)): #part_of_speech_tag(tagList) and token_list(wordList) has the same length\n",
        "            output_file.write(wordList[i]+\"\t\"+ tagList[i]+ \" \" + boiList[i] + \" \" + path[i] + \"\\n\")\n",
        "\n",
        "        output_file.write(\"\\n\")\n",
        "        wordList = [] # refresh word list\n",
        "        tagList = []\n",
        "        boiList = []\n",
        "        #prob_table = {}#refresh prob_table\n",
        "\n",
        "input_file.close()\n",
        "output_file.close()"
      ],
      "execution_count": null,
      "outputs": []
    },
    {
      "cell_type": "code",
      "metadata": {
        "id": "IQ-Gcj6lgzbf"
      },
      "source": [
        "import numpy as np\n",
        "cm = np.zeros((3,3))\n",
        "with open(\"/content/boi_output.txt\",'r') as f:\n",
        "    a1 = f.readlines()\n",
        "    for line in a1:\n",
        "        if line.rstrip()==\"\":\n",
        "            continue\n",
        "        else:\n",
        "            x = line.rstrip().split(\" \")\n",
        "            if x[1] == 'B':\n",
        "                if x[2] == 'B':\n",
        "                    cm[0][0] += 1\n",
        "                elif x[2]=='I' :\n",
        "                    cm[0][1] += 1\n",
        "                elif x[2] == 'O':\n",
        "                    cm[0][2] += 1\n",
        "            elif x[1] == 'I':\n",
        "                if x[2] == 'B':\n",
        "                    cm[1][0] += 1\n",
        "                elif x[2]=='I' :\n",
        "                    cm[1][1] += 1\n",
        "                elif x[2] == 'O':\n",
        "                    cm[1][2] += 1\n",
        "            elif x[1] == 'O':\n",
        "                if x[2] == 'B':\n",
        "                    cm[2][0] += 1\n",
        "                elif x[2]=='I' :\n",
        "                    cm[2][1] += 1\n",
        "                elif x[2] == 'O':\n",
        "                    cm[2][2] += 1"
      ],
      "execution_count": null,
      "outputs": []
    },
    {
      "cell_type": "code",
      "metadata": {
        "id": "CP7wZ-SOSgHs",
        "outputId": "59fce709-4b6a-4d9d-c50b-d9d1ca2b3fc3",
        "colab": {
          "base_uri": "https://localhost:8080/",
          "height": 67
        }
      },
      "source": [
        "cm"
      ],
      "execution_count": null,
      "outputs": [
        {
          "output_type": "execute_result",
          "data": {
            "text/plain": [
              "array([[22617.,  1165.,    70.],\n",
              "       [ 1078., 15894.,   373.],\n",
              "       [  108.,   151.,  5921.]])"
            ]
          },
          "metadata": {
            "tags": []
          },
          "execution_count": 25
        }
      ]
    },
    {
      "cell_type": "code",
      "metadata": {
        "id": "qr3I80kGSiOx",
        "outputId": "4c47cad5-a834-4674-9412-6e7c48f1aacc",
        "colab": {
          "base_uri": "https://localhost:8080/",
          "height": 118
        }
      },
      "source": [
        "print(f'Precision for B tag {cm[0][0]*1.0/(cm[0][0]+cm[1][0]+cm[2][0])}')\n",
        "print(f'Precision for I tag {cm[1][1]*1.0/(cm[0][1]+cm[1][1]+cm[2][1])}')\n",
        "print(f'Precision for O tag {cm[2][2]*1.0/(cm[0][2]+cm[1][2]+cm[2][2])}')\n",
        "\n",
        "print(f'Recall for B tag {cm[0][0]*1.0/(cm[0][0]+cm[0][1]+cm[0][2])}')\n",
        "print(f'Recall for I tag {cm[1][1]*1.0/(cm[1][0]+cm[1][1]+cm[1][2])}')\n",
        "print(f'Recall for O tag {cm[2][2]*1.0/(cm[2][0]+cm[2][1]+cm[2][2])}')"
      ],
      "execution_count": null,
      "outputs": [
        {
          "output_type": "stream",
          "text": [
            "Precision for B tag 0.9501743477712893\n",
            "Precision for I tag 0.9235328297501453\n",
            "Precision for O tag 0.930389692017599\n",
            "Recall for B tag 0.9482223712896193\n",
            "Recall for I tag 0.9163447679446526\n",
            "Recall for O tag 0.9580906148867314\n"
          ],
          "name": "stdout"
        }
      ]
    },
    {
      "cell_type": "code",
      "metadata": {
        "id": "mhEbhTYJWerI",
        "outputId": "5c430a5b-ac92-4297-f4ad-98b826e2b7ab",
        "colab": {
          "base_uri": "https://localhost:8080/",
          "height": 731
        }
      },
      "source": [
        "from sklearn.metrics import confusion_matrix\n",
        "import sklearn\n",
        "import itertools\n",
        "# from sklearn.metrics import plot_confusion_matrix\n",
        "import matplotlib.pyplot as plt\n",
        "import numpy as np\n",
        "fig, ax = plt.subplots(figsize=(12,12))\n",
        "# Acc = np.zeros((5))\n",
        "# for i in range(5):\n",
        "#   for j in range(len(test_lab[i])):\n",
        "#     if(test_lab[i][j]==fin_pred[i][j]):\n",
        "#       Acc[i] = Acc[i]+1\n",
        "#   Acc[i] = Acc[i]/len(test_lab[i])\n",
        "# print(\"5 fold Acc\",Acc) \n",
        "# print(\"Avg Accuracy\",np.sum(Acc)/5)     \n",
        "# test_y_true = np.array(list(itertools.chain.from_iterable(test_y_true)))\n",
        "labels=['B','I','O']\n",
        "ax.matshow(cm, cmap=plt.cm.Blues)\n",
        "lis = [-1,0,1,2,3]\n",
        "ax.set_xticks(lis)\n",
        "ax.set_yticks(lis)\n",
        "ax.set_xticklabels([''] + labels)\n",
        "ax.set_yticklabels([''] + labels)\n",
        "for i in range(3):\n",
        "  for j in range(3):\n",
        "    c = cm[j,i]\n",
        "    ax.text(i, j, str(c), va='bottom', ha='center')\n",
        "    ax.text(i,j,str(round((c/cm.sum()*100),2))+\"%\",va='top', ha='center')\n",
        "plt.xlabel('Predicted')\n",
        "plt.ylabel('True')\n",
        "per_Pos = np.zeros((3))    \n",
        "for i in range(3):\n",
        "  per_Pos[i] = cm[i][i]/np.sum(cm[i])\n",
        "print(\"per_pos\",per_Pos)   \n",
        "plt.savefig('memm_cm')"
      ],
      "execution_count": null,
      "outputs": [
        {
          "output_type": "stream",
          "text": [
            "per_pos [0.94822237 0.91634477 0.95809061]\n"
          ],
          "name": "stdout"
        },
        {
          "output_type": "display_data",
          "data": {
            "image/png": "[encoded data removed]",
            "text/plain": [
              "<Figure size 864x864 with 1 Axes>"
            ]
          },
          "metadata": {
            "tags": [],
            "needs_background": "light"
          }
        }
      ]
    },
    {
      "cell_type": "code",
      "metadata": {
        "id": "qO7hdTniYzIT",
        "outputId": "3eff7c5d-e5b2-4ee8-be01-260d0609397d",
        "colab": {
          "base_uri": "https://localhost:8080/",
          "height": 134
        }
      },
      "source": [
        "true_pos = np.diag(cm)\n",
        "false_pos = np.sum(cm, axis=0) - true_pos\n",
        "false_neg = np.sum(cm, axis=1) - true_pos\n",
        "print(true_pos)\n",
        "print(false_pos)\n",
        "print(false_neg)\n",
        "prec_b=true_pos[0]/(true_pos[0]+false_pos[0])\n",
        "rec_b=true_pos[0]/(true_pos[0]+false_neg[0])\n",
        "f1_b=2*prec_b*rec_b/(rec_b+prec_b)\n",
        "print(\"Precision for B=\",prec_b,\"and recall for B=\",rec_b,\"and f1 score=\",f1_b)\n",
        "\n",
        "prec_i=true_pos[1]/(true_pos[1]+false_pos[1])\n",
        "rec_i=true_pos[1]/(true_pos[1]+false_neg[1])\n",
        "f1_i=2*prec_i*rec_i/(rec_i+prec_i)\n",
        "print(\"Precision for I=\",prec_i,\"and recall for I=\",rec_i,\"and f1 score=\",f1_i)\n",
        "\n",
        "prec_O=true_pos[2]/(true_pos[2]+false_pos[2])\n",
        "rec_O=true_pos[2]/(true_pos[2]+false_neg[2])\n",
        "f1_O=2*prec_O*rec_O/(rec_O+prec_O)\n",
        "print(\"Precision for O=\",prec_O,\"and recall for O=\",rec_O,\"and f1 score=\",f1_O)\n",
        "\n",
        "overall_prec=np.sum(true_pos)/(np.sum(true_pos)+np.sum(false_pos))\n",
        "overall_rec=np.sum(true_pos)/(np.sum(true_pos)+np.sum(false_neg))\n",
        "overall_f1=2*overall_prec*overall_rec/(overall_rec+overall_prec)\n",
        "print(\"Overall precision:\",overall_prec,\"Overall recall:\",overall_rec,\"Overall f1 score:\",overall_f1)"
      ],
      "execution_count": null,
      "outputs": [
        {
          "output_type": "stream",
          "text": [
            "[22617. 15894.  5921.]\n",
            "[1186. 1316.  443.]\n",
            "[1235. 1451.  259.]\n",
            "Precision for B= 0.9501743477712893 and recall for B= 0.9482223712896193 and f1 score= 0.9491973559962228\n",
            "Precision for I= 0.9235328297501453 and recall for I= 0.9163447679446526 and f1 score= 0.9199247576327594\n",
            "Precision for O= 0.930389692017599 and recall for O= 0.9580906148867314 and f1 score= 0.9440369897959184\n",
            "Overall precision: 0.9378390358190684 Overall recall: 0.9378390358190684 Overall f1 score: 0.9378390358190685\n"
          ],
          "name": "stdout"
        }
      ]
    },
    {
      "cell_type": "code",
      "metadata": {
        "id": "eZTkt51yZTzv",
        "outputId": "edeb302f-5652-448b-979e-0fae6e72bc08",
        "colab": {
          "base_uri": "https://localhost:8080/",
          "height": 34
        }
      },
      "source": [
        "print((cm[0][0]+cm[1][1]+cm[2][2])/(np.sum(cm)))"
      ],
      "execution_count": null,
      "outputs": [
        {
          "output_type": "stream",
          "text": [
            "0.9378390358190684\n"
          ],
          "name": "stdout"
        }
      ]
    }
  ]
}